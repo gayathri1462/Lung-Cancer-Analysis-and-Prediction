{
  "cells": [
    {
      "cell_type": "code",
      "execution_count": 34,
      "metadata": {
        "colab": {
          "base_uri": "https://localhost:8080/"
        },
        "id": "_jCEYJdMGfaX",
        "outputId": "53f64484-4c32-42c1-a57a-96437369da13"
      },
      "outputs": [
        {
          "output_type": "stream",
          "name": "stdout",
          "text": [
            "Drive already mounted at /content/drive; to attempt to forcibly remount, call drive.mount(\"/content/drive\", force_remount=True).\n"
          ]
        }
      ],
      "source": [
        "from google.colab import drive\n",
        "drive.mount('/content/drive')"
      ]
    },
    {
      "cell_type": "code",
      "execution_count": 35,
      "metadata": {
        "colab": {
          "base_uri": "https://localhost:8080/"
        },
        "id": "F-UrNQs8Gh_4",
        "outputId": "9dbfc16a-a9d1-4f26-b6cf-db9416bd951f"
      },
      "outputs": [
        {
          "output_type": "stream",
          "name": "stdout",
          "text": [
            "/content/drive/MyDrive/LungCancer\n"
          ]
        }
      ],
      "source": [
        "%cd /content/drive/MyDrive/LungCancer"
      ]
    },
    {
      "cell_type": "code",
      "execution_count": 36,
      "metadata": {
        "id": "LD7OCaclGriQ"
      },
      "outputs": [],
      "source": [
        "#!unzip IQ-OTHNCCD_dataset.zip -d dataset"
      ]
    },
    {
      "cell_type": "code",
      "execution_count": 37,
      "metadata": {
        "id": "c5kfNzZ8Gvee"
      },
      "outputs": [],
      "source": [
        "import os # provides a way of using operating system dependent functionality\n",
        "import shutil\n",
        "import numpy as np"
      ]
    },
    {
      "cell_type": "code",
      "execution_count": 38,
      "metadata": {
        "colab": {
          "base_uri": "https://localhost:8080/"
        },
        "id": "Mq3BtlNRIUWm",
        "outputId": "4109b474-954a-40a2-b34a-82c8c4e35857"
      },
      "outputs": [
        {
          "output_type": "stream",
          "name": "stdout",
          "text": [
            "['Bengin cases', 'Malignant cases', 'Normal cases']\n"
          ]
        },
        {
          "output_type": "execute_result",
          "data": {
            "text/plain": [
              "3"
            ]
          },
          "metadata": {},
          "execution_count": 38
        }
      ],
      "source": [
        "dir = '/content/drive/MyDrive/LungCancer/dataset/The IQ-OTHNCCD lung cancer dataset'\n",
        "categories = sorted(os.listdir(dir))\n",
        "print(categories)\n",
        "len(categories)"
      ]
    },
    {
      "cell_type": "code",
      "execution_count": 39,
      "metadata": {
        "id": "_0_aQXiEIlJI"
      },
      "outputs": [],
      "source": [
        "#os.remove('/content/drive/MyDrive/LungCancer/dataset/The IQ-OTHNCCD lung cancer dataset/IQ-OTH_NCCD lung cancer dataset.txt')"
      ]
    },
    {
      "cell_type": "code",
      "execution_count": 40,
      "metadata": {
        "colab": {
          "base_uri": "https://localhost:8080/"
        },
        "id": "x1eAr7aRI0n2",
        "outputId": "f06ab105-3014-401b-8f5a-c82b96726e8e"
      },
      "outputs": [
        {
          "output_type": "stream",
          "name": "stdout",
          "text": [
            "['Bengin cases', 'Malignant cases', 'Normal cases']\n"
          ]
        },
        {
          "output_type": "execute_result",
          "data": {
            "text/plain": [
              "3"
            ]
          },
          "metadata": {},
          "execution_count": 40
        }
      ],
      "source": [
        "categories = sorted(os.listdir(dir))\n",
        "print(categories)\n",
        "len(categories)"
      ]
    },
    {
      "cell_type": "code",
      "execution_count": 41,
      "metadata": {
        "colab": {
          "base_uri": "https://localhost:8080/"
        },
        "id": "DZZbAanSHJn_",
        "outputId": "0b8f544f-5f96-4e16-af0e-a88b8d32f16d"
      },
      "outputs": [
        {
          "output_type": "stream",
          "name": "stdout",
          "text": [
            "########### Train Test Script started ###########\n",
            "$$$$$$$ Class Name Bengin cases $$$$$$$\n",
            "Total images: 120\n",
            "Training: 108\n",
            "Testing: 12\n",
            "$$$$$$$ Class Name Malignant cases $$$$$$$\n",
            "Total images: 561\n",
            "Training: 504\n",
            "Testing: 57\n",
            "$$$$$$$ Class Name Normal cases $$$$$$$\n",
            "Total images: 416\n",
            "Training: 374\n",
            "Testing: 42\n",
            "########### Train Test Script Ended ###########\n"
          ]
        }
      ],
      "source": [
        "def train_test_split():\n",
        "    print(\"########### Train Test Script started ###########\")\n",
        "    root_dir = '/content/drive/MyDrive/LungCancer/splitted_dataset'\n",
        "    classes_dir = ['Bengin cases', 'Malignant cases', 'Normal cases']\n",
        "    processed_dir = '/content/drive/MyDrive/LungCancer/dataset/The IQ-OTHNCCD lung cancer dataset'\n",
        "    test_ratio = 0.10\n",
        "\n",
        "    for cls in classes_dir:\n",
        "        # Creating partitions of the data after shuffeling\n",
        "        print(\"$$$$$$$ Class Name \" + cls + \" $$$$$$$\")\n",
        "        src = processed_dir +\"/\" + cls  # Folder to copy images from\n",
        "\n",
        "        allFileNames = os.listdir(src)\n",
        "        np.random.shuffle(allFileNames)\n",
        "        train_FileNames, test_FileNames = np.split(np.array(allFileNames), [int(len(allFileNames) * (1 - test_ratio)) ])\n",
        "\n",
        "        train_FileNames = [src + '/' + name for name in train_FileNames.tolist()]\n",
        "        test_FileNames = [src + '/' + name for name in test_FileNames.tolist()]\n",
        "\n",
        "        print('Total images: '+ str(len(allFileNames)))\n",
        "        print('Training: '+ str(len(train_FileNames)))\n",
        "        print('Testing: '+ str(len(test_FileNames)))\n",
        "\n",
        "        # # Creating Train Test folders (One time use)\n",
        "        os.makedirs(root_dir + '/train/' + cls)\n",
        "        os.makedirs(root_dir + '/test/' + cls)\n",
        "\n",
        "        # Copy-pasting images\n",
        "        for name in train_FileNames:\n",
        "            shutil.copy(name, root_dir + '/train/' + cls)\n",
        "\n",
        "        for name in test_FileNames:\n",
        "            shutil.copy(name, root_dir + '/test/' + cls)\n",
        "\n",
        "    print(\"########### Train Test Script Ended ###########\")\n",
        "\n",
        "train_test_split()"
      ]
    }
  ],
  "metadata": {
    "accelerator": "GPU",
    "colab": {
      "collapsed_sections": [],
      "name": "SplitDataset.ipynb",
      "provenance": []
    },
    "kernelspec": {
      "display_name": "Python 3",
      "name": "python3"
    },
    "language_info": {
      "name": "python"
    }
  },
  "nbformat": 4,
  "nbformat_minor": 0
}